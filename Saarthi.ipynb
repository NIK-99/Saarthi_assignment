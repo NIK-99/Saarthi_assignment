{
  "nbformat": 4,
  "nbformat_minor": 0,
  "metadata": {
    "colab": {
      "name": "Untitled5.ipynb",
      "provenance": []
    },
    "kernelspec": {
      "name": "python3",
      "display_name": "Python 3"
    },
    "language_info": {
      "name": "python"
    },
    "accelerator": "GPU"
  },
  "cells": [
    {
      "cell_type": "code",
      "metadata": {
        "colab": {
          "base_uri": "https://localhost:8080/"
        },
        "id": "93KG6nBiifKR",
        "outputId": "74fcbacc-6325-416f-960a-6b93ba121245"
      },
      "source": [
        "from google.colab import drive\n",
        "drive.mount('/content/drive')"
      ],
      "execution_count": 2,
      "outputs": [
        {
          "output_type": "stream",
          "name": "stdout",
          "text": [
            "Drive already mounted at /content/drive; to attempt to forcibly remount, call drive.mount(\"/content/drive\", force_remount=True).\n"
          ]
        }
      ]
    },
    {
      "cell_type": "code",
      "metadata": {
        "id": "fAN5ewmQi9B6"
      },
      "source": [
        "import numpy as np\n",
        "import pandas as pd\n",
        "from sklearn.preprocessing import OneHotEncoder, LabelEncoder\n",
        "from keras.models import Sequential\n",
        "from tensorflow import keras\n",
        "from tensorflow.keras import layers\n",
        "import tensorflow as tf\n",
        "from random import shuffle\n",
        "from keras.preprocessing.text import Tokenizer\n",
        "from keras.preprocessing.sequence import pad_sequences\n",
        "from keras.layers import Dense, Input, LSTM, Embedding, Dropout, Activation\n",
        "from keras.models import Model\n",
        "from keras.callbacks import CSVLogger\n",
        "from keras.layers import BatchNormalization\n",
        "from sklearn.metrics import f1_score\n",
        "from gensim.models import KeyedVectors\n",
        "import gensim\n",
        "import json\n",
        "import warnings\n",
        "import logging, sys\n",
        "import os\n",
        "from datetime import datetime\n",
        "logging.disable(sys.maxsize)\n",
        "warnings.filterwarnings('ignore')\n"
      ],
      "execution_count": 3,
      "outputs": []
    },
    {
      "cell_type": "code",
      "metadata": {
        "id": "WUWs8oYDi9Ek"
      },
      "source": [
        "train_data = pd.read_csv('/content/drive/MyDrive/sarthi/train_data.csv')\n",
        "valid_data = pd.read_csv('/content/drive/MyDrive/sarthi/valid_data.csv')\n",
        "valid_data.drop('path', inplace=True, axis=1)\n",
        "train_data.drop('path', inplace=True, axis=1)\n"
      ],
      "execution_count": 4,
      "outputs": []
    },
    {
      "cell_type": "code",
      "metadata": {
        "colab": {
          "base_uri": "https://localhost:8080/"
        },
        "id": "nMsuYTeGi9Ld",
        "outputId": "6b71b9c6-ad52-43ec-efbe-ee88eb8323a8"
      },
      "source": [
        "# Checking Null value\n",
        "train_data.isnull().any()\n",
        "valid_data.isnull().any()"
      ],
      "execution_count": 5,
      "outputs": [
        {
          "output_type": "execute_result",
          "data": {
            "text/plain": [
              "transcription    False\n",
              "action           False\n",
              "object           False\n",
              "location         False\n",
              "dtype: bool"
            ]
          },
          "metadata": {},
          "execution_count": 5
        }
      ]
    },
    {
      "cell_type": "code",
      "metadata": {
        "colab": {
          "base_uri": "https://localhost:8080/"
        },
        "id": "0PcWMpfji9Nm",
        "outputId": "7658848c-f567-408e-eed2-6e6e4e363289"
      },
      "source": [
        "# Finding out how many unique value train set have \n",
        "print(train_data['action'].unique(),train_data['object'].unique(), train_data['location'].unique(), sep = \"\\n\\n\")"
      ],
      "execution_count": 6,
      "outputs": [
        {
          "output_type": "stream",
          "name": "stdout",
          "text": [
            "['activate' 'increase' 'change language' 'decrease' 'deactivate' 'bring']\n",
            "\n",
            "['lights' 'heat' 'Chinese' 'none' 'volume' 'English' 'lamp' 'shoes'\n",
            " 'newspaper' 'socks' 'music' 'Korean' 'juice' 'German']\n",
            "\n",
            "['kitchen' 'none' 'washroom' 'bedroom']\n"
          ]
        }
      ]
    },
    {
      "cell_type": "code",
      "metadata": {
        "colab": {
          "base_uri": "https://localhost:8080/",
          "height": 206
        },
        "id": "Duxyy4pQi9RE",
        "outputId": "c43f9732-6091-4cf6-c815-0648b24e2263"
      },
      "source": [
        "# Here we can use pd.Categorical(valid_data['action']) \n",
        "\n",
        "act_encoder = OneHotEncoder(sparse=False, dtype='int32', handle_unknown='ignore')\n",
        "obj_encoder = OneHotEncoder(sparse=False, dtype='int32', handle_unknown='ignore')\n",
        "loc_encoder = OneHotEncoder(sparse=False, dtype='int32', handle_unknown='ignore')\n",
        "\n",
        "act_oh = act_encoder.fit_transform(np.array(train_data['action']).reshape(-1,1))\n",
        "obj_oh = obj_encoder.fit_transform(np.array(train_data['object']).reshape(-1,1))\n",
        "loc_oh = loc_encoder.fit_transform(np.array(train_data['location']).reshape(-1,1))\n",
        "train_data['act'] = list(act_oh)\n",
        "train_data['obj'] = list(obj_oh)\n",
        "train_data['loc'] = list(loc_oh)\n",
        "# train_data['class']=train_data['act_oh']\n",
        "# for i in range(len(train_data)):\n",
        "#   train_data['class'].iloc[i]= list(train_data['act_oh'].iloc[i])+list(train_data['obj_oh'].iloc[i])+list(train_data['loc_oh'].iloc[i])\n",
        "\n",
        "train_data.head()"
      ],
      "execution_count": 7,
      "outputs": [
        {
          "output_type": "execute_result",
          "data": {
            "text/html": [
              "<div>\n",
              "<style scoped>\n",
              "    .dataframe tbody tr th:only-of-type {\n",
              "        vertical-align: middle;\n",
              "    }\n",
              "\n",
              "    .dataframe tbody tr th {\n",
              "        vertical-align: top;\n",
              "    }\n",
              "\n",
              "    .dataframe thead th {\n",
              "        text-align: right;\n",
              "    }\n",
              "</style>\n",
              "<table border=\"1\" class=\"dataframe\">\n",
              "  <thead>\n",
              "    <tr style=\"text-align: right;\">\n",
              "      <th></th>\n",
              "      <th>transcription</th>\n",
              "      <th>action</th>\n",
              "      <th>object</th>\n",
              "      <th>location</th>\n",
              "      <th>act</th>\n",
              "      <th>obj</th>\n",
              "      <th>loc</th>\n",
              "    </tr>\n",
              "  </thead>\n",
              "  <tbody>\n",
              "    <tr>\n",
              "      <th>0</th>\n",
              "      <td>Turn on the kitchen lights</td>\n",
              "      <td>activate</td>\n",
              "      <td>lights</td>\n",
              "      <td>kitchen</td>\n",
              "      <td>[1, 0, 0, 0, 0, 0]</td>\n",
              "      <td>[0, 0, 0, 0, 0, 0, 0, 1, 0, 0, 0, 0, 0, 0]</td>\n",
              "      <td>[0, 1, 0, 0]</td>\n",
              "    </tr>\n",
              "    <tr>\n",
              "      <th>1</th>\n",
              "      <td>Turn up the temperature</td>\n",
              "      <td>increase</td>\n",
              "      <td>heat</td>\n",
              "      <td>none</td>\n",
              "      <td>[0, 0, 0, 0, 0, 1]</td>\n",
              "      <td>[0, 0, 0, 0, 1, 0, 0, 0, 0, 0, 0, 0, 0, 0]</td>\n",
              "      <td>[0, 0, 1, 0]</td>\n",
              "    </tr>\n",
              "    <tr>\n",
              "      <th>2</th>\n",
              "      <td>OK now switch the main language to Chinese</td>\n",
              "      <td>change language</td>\n",
              "      <td>Chinese</td>\n",
              "      <td>none</td>\n",
              "      <td>[0, 0, 1, 0, 0, 0]</td>\n",
              "      <td>[1, 0, 0, 0, 0, 0, 0, 0, 0, 0, 0, 0, 0, 0]</td>\n",
              "      <td>[0, 0, 1, 0]</td>\n",
              "    </tr>\n",
              "    <tr>\n",
              "      <th>3</th>\n",
              "      <td>Turn down the bathroom temperature</td>\n",
              "      <td>decrease</td>\n",
              "      <td>heat</td>\n",
              "      <td>washroom</td>\n",
              "      <td>[0, 0, 0, 0, 1, 0]</td>\n",
              "      <td>[0, 0, 0, 0, 1, 0, 0, 0, 0, 0, 0, 0, 0, 0]</td>\n",
              "      <td>[0, 0, 0, 1]</td>\n",
              "    </tr>\n",
              "    <tr>\n",
              "      <th>4</th>\n",
              "      <td>Change the language</td>\n",
              "      <td>change language</td>\n",
              "      <td>none</td>\n",
              "      <td>none</td>\n",
              "      <td>[0, 0, 1, 0, 0, 0]</td>\n",
              "      <td>[0, 0, 0, 0, 0, 0, 0, 0, 0, 0, 1, 0, 0, 0]</td>\n",
              "      <td>[0, 0, 1, 0]</td>\n",
              "    </tr>\n",
              "  </tbody>\n",
              "</table>\n",
              "</div>"
            ],
            "text/plain": [
              "                                transcription  ...           loc\n",
              "0                  Turn on the kitchen lights  ...  [0, 1, 0, 0]\n",
              "1                     Turn up the temperature  ...  [0, 0, 1, 0]\n",
              "2  OK now switch the main language to Chinese  ...  [0, 0, 1, 0]\n",
              "3          Turn down the bathroom temperature  ...  [0, 0, 0, 1]\n",
              "4                         Change the language  ...  [0, 0, 1, 0]\n",
              "\n",
              "[5 rows x 7 columns]"
            ]
          },
          "metadata": {},
          "execution_count": 7
        }
      ]
    },
    {
      "cell_type": "code",
      "metadata": {
        "id": "VlpmtIXiqefl"
      },
      "source": [
        "# Using transcription \n",
        "import re\n",
        "import unicodedata\n",
        "import string\n",
        "import spacy\n",
        "\n",
        "nlp = spacy.load('en_core_web_sm')\n",
        "\n",
        "def clean1(text, accented=True, special=True, punctuation = True):\n",
        "  if accented:\n",
        "    text = unicodedata.normalize('NFKD', text).encode('ascii', 'ignore').decode('utf-8', 'ignore')\n",
        "  if punctuation:\n",
        "    text = ''.join([c for c in text if c not in string.punctuation])\n",
        "  if special:\n",
        "    pat = r'[^a-zA-z0-9.,!?/:;\\\"\\'\\s]' \n",
        "    text = re.sub(pat, '', text)\n",
        "  return text.lower()\n",
        "  \n",
        "def stopword(text):\n",
        "  # text = nlp(text)\n",
        "  stopwords = nlp.Defaults.stop_words\n",
        "  lst=[]\n",
        "  for token in text.split():\n",
        "      if token.lower() not in stopwords:    #checking whether the word is not \n",
        "          lst.append(token)                    #present in the stopword list.\n",
        "  text = ' '.join(lst)\n",
        "  return text"
      ],
      "execution_count": 8,
      "outputs": []
    },
    {
      "cell_type": "code",
      "metadata": {
        "colab": {
          "base_uri": "https://localhost:8080/",
          "height": 206
        },
        "id": "2IZ_B_bbAvhh",
        "outputId": "a549b51d-428d-4360-e337-b0f31fe689f2"
      },
      "source": [
        "train_data['transcription'] = train_data['transcription'].apply(clean1)\n",
        "valid_data['transcription'] = valid_data['transcription'].apply(stopword)\n",
        "train_data['transcription'] = train_data['transcription'].apply(stopword)\n",
        "valid_data['transcription'] = valid_data['transcription'].apply(clean1)\n",
        "train_data.head()\n",
        "# valid_data.head()"
      ],
      "execution_count": 9,
      "outputs": [
        {
          "output_type": "execute_result",
          "data": {
            "text/html": [
              "<div>\n",
              "<style scoped>\n",
              "    .dataframe tbody tr th:only-of-type {\n",
              "        vertical-align: middle;\n",
              "    }\n",
              "\n",
              "    .dataframe tbody tr th {\n",
              "        vertical-align: top;\n",
              "    }\n",
              "\n",
              "    .dataframe thead th {\n",
              "        text-align: right;\n",
              "    }\n",
              "</style>\n",
              "<table border=\"1\" class=\"dataframe\">\n",
              "  <thead>\n",
              "    <tr style=\"text-align: right;\">\n",
              "      <th></th>\n",
              "      <th>transcription</th>\n",
              "      <th>action</th>\n",
              "      <th>object</th>\n",
              "      <th>location</th>\n",
              "      <th>act</th>\n",
              "      <th>obj</th>\n",
              "      <th>loc</th>\n",
              "    </tr>\n",
              "  </thead>\n",
              "  <tbody>\n",
              "    <tr>\n",
              "      <th>0</th>\n",
              "      <td>turn kitchen lights</td>\n",
              "      <td>activate</td>\n",
              "      <td>lights</td>\n",
              "      <td>kitchen</td>\n",
              "      <td>[1, 0, 0, 0, 0, 0]</td>\n",
              "      <td>[0, 0, 0, 0, 0, 0, 0, 1, 0, 0, 0, 0, 0, 0]</td>\n",
              "      <td>[0, 1, 0, 0]</td>\n",
              "    </tr>\n",
              "    <tr>\n",
              "      <th>1</th>\n",
              "      <td>turn temperature</td>\n",
              "      <td>increase</td>\n",
              "      <td>heat</td>\n",
              "      <td>none</td>\n",
              "      <td>[0, 0, 0, 0, 0, 1]</td>\n",
              "      <td>[0, 0, 0, 0, 1, 0, 0, 0, 0, 0, 0, 0, 0, 0]</td>\n",
              "      <td>[0, 0, 1, 0]</td>\n",
              "    </tr>\n",
              "    <tr>\n",
              "      <th>2</th>\n",
              "      <td>ok switch main language chinese</td>\n",
              "      <td>change language</td>\n",
              "      <td>Chinese</td>\n",
              "      <td>none</td>\n",
              "      <td>[0, 0, 1, 0, 0, 0]</td>\n",
              "      <td>[1, 0, 0, 0, 0, 0, 0, 0, 0, 0, 0, 0, 0, 0]</td>\n",
              "      <td>[0, 0, 1, 0]</td>\n",
              "    </tr>\n",
              "    <tr>\n",
              "      <th>3</th>\n",
              "      <td>turn bathroom temperature</td>\n",
              "      <td>decrease</td>\n",
              "      <td>heat</td>\n",
              "      <td>washroom</td>\n",
              "      <td>[0, 0, 0, 0, 1, 0]</td>\n",
              "      <td>[0, 0, 0, 0, 1, 0, 0, 0, 0, 0, 0, 0, 0, 0]</td>\n",
              "      <td>[0, 0, 0, 1]</td>\n",
              "    </tr>\n",
              "    <tr>\n",
              "      <th>4</th>\n",
              "      <td>change language</td>\n",
              "      <td>change language</td>\n",
              "      <td>none</td>\n",
              "      <td>none</td>\n",
              "      <td>[0, 0, 1, 0, 0, 0]</td>\n",
              "      <td>[0, 0, 0, 0, 0, 0, 0, 0, 0, 0, 1, 0, 0, 0]</td>\n",
              "      <td>[0, 0, 1, 0]</td>\n",
              "    </tr>\n",
              "  </tbody>\n",
              "</table>\n",
              "</div>"
            ],
            "text/plain": [
              "                     transcription  ...           loc\n",
              "0              turn kitchen lights  ...  [0, 1, 0, 0]\n",
              "1                 turn temperature  ...  [0, 0, 1, 0]\n",
              "2  ok switch main language chinese  ...  [0, 0, 1, 0]\n",
              "3        turn bathroom temperature  ...  [0, 0, 0, 1]\n",
              "4                  change language  ...  [0, 0, 1, 0]\n",
              "\n",
              "[5 rows x 7 columns]"
            ]
          },
          "metadata": {},
          "execution_count": 9
        }
      ]
    },
    {
      "cell_type": "code",
      "metadata": {
        "id": "eV33GM11B7yy"
      },
      "source": [
        "vocab_size = 5000\n",
        "tokenizer = Tokenizer(num_words=vocab_size)\n",
        "tokenizer.fit_on_texts(train_data['transcription'])\n",
        "token_train = tokenizer.texts_to_sequences(train_data['transcription'])\n",
        "token_valid = tokenizer.texts_to_sequences(valid_data['transcription'])\n",
        "vocab_size = len(tokenizer.word_index) + 1\n"
      ],
      "execution_count": 10,
      "outputs": []
    },
    {
      "cell_type": "code",
      "metadata": {
        "id": "wNzBNHtGEwnr"
      },
      "source": [
        "# As the length of arrays are diffrent we need to pad it\n",
        "max_length = 200\n",
        "train_data['padded_sequences'] = pad_sequences(token_train,  padding='post', maxlen=max_length).tolist()\n",
        "train = np.array([np.array(i) for i in train_data['padded_sequences']])\n",
        "valid_data['padded_sequences'] = pad_sequences(token_valid,  padding='post', maxlen=max_length).tolist()\n",
        "valid = np.array([np.array(i) for i in train_data['padded_sequences']])\n"
      ],
      "execution_count": 11,
      "outputs": []
    },
    {
      "cell_type": "code",
      "metadata": {
        "colab": {
          "base_uri": "https://localhost:8080/"
        },
        "id": "1JwCo0BOyWTF",
        "outputId": "4e280dc3-bd38-4146-d4a0-0ea038c13809"
      },
      "source": [
        "! wget \"https://dl.fbaipublicfiles.com/fasttext/vectors-english/wiki-news-300d-1M.vec.zip\"\n",
        "!unzip \"./wiki-news-300d-1M.vec.zip\""
      ],
      "execution_count": 12,
      "outputs": [
        {
          "output_type": "stream",
          "name": "stdout",
          "text": [
            "--2021-12-04 23:34:24--  https://dl.fbaipublicfiles.com/fasttext/vectors-english/wiki-news-300d-1M.vec.zip\n",
            "Resolving dl.fbaipublicfiles.com (dl.fbaipublicfiles.com)... 172.67.9.4, 104.22.75.142, 104.22.74.142, ...\n",
            "Connecting to dl.fbaipublicfiles.com (dl.fbaipublicfiles.com)|172.67.9.4|:443... connected.\n",
            "HTTP request sent, awaiting response... 200 OK\n",
            "Length: 681808098 (650M) [application/zip]\n",
            "Saving to: ‘wiki-news-300d-1M.vec.zip.1’\n",
            "\n",
            "      wiki-news-300   1%[                    ]   8.96M  10.7MB/s               ^C\n",
            "Archive:  ./wiki-news-300d-1M.vec.zip\n",
            "replace wiki-news-300d-1M.vec? [y]es, [n]o, [A]ll, [N]one, [r]ename: "
          ]
        }
      ]
    },
    {
      "cell_type": "code",
      "metadata": {
        "id": "Si28joinyoRx"
      },
      "source": [
        "from gensim.models import KeyedVectors\n",
        "e_model = KeyedVectors.load_word2vec_format('wiki-news-300d-1M.vec')\n",
        "word_index = tokenizer.word_index\n",
        "embedding_matrix = np.zeros((len(word_index)+1, 300))\n",
        "for word, i in word_index.items():\n",
        "    try:    \n",
        "      embedding_vector = e_model[word]\n",
        "      if embedding_vector is not None:\n",
        "          embedding_matrix[i] = embedding_vector\n",
        "    except:\n",
        "      embedding_matrix[i] = np.zeros((300,))\n",
        "      print(1)"
      ],
      "execution_count": 14,
      "outputs": []
    },
    {
      "cell_type": "code",
      "metadata": {
        "id": "Zg_0IZEJyzY-"
      },
      "source": [
        ""
      ],
      "execution_count": null,
      "outputs": []
    },
    {
      "cell_type": "code",
      "metadata": {
        "id": "BDi_1nXtqbit"
      },
      "source": [
        "#In practical terms, you can use the pretrained Word2vec embeddings as features of any neural network (or other algorithm). They can give you advantage if your data is small, since the pretrained embeddings were trained on large volumes of text"
      ],
      "execution_count": 49,
      "outputs": []
    },
    {
      "cell_type": "code",
      "metadata": {
        "id": "H15TQ8BWnHav"
      },
      "source": [
        "# Treating [location,object,action] as class and training the model on them\n",
        "t = pd.DataFrame()\n",
        "t[\"all\"] =train_data['act']\n",
        "for i in range(len(train_data)):\n",
        "  t['all'].iloc[i]= list(train_data['act'].iloc[i])+list(train_data['obj'].iloc[i])+list(train_data['loc'].iloc[i])\n",
        "Y = pd.DataFrame()\n",
        "for i in range(23):\n",
        "  Y[i+1]=t['all'].apply(lambda x: int(x[i]))"
      ],
      "execution_count": 15,
      "outputs": []
    },
    {
      "cell_type": "code",
      "metadata": {
        "id": "BiZfvvSNp0mQ"
      },
      "source": [
        "# Taking X as the padded output of the tokenier\n",
        "X = train\n"
      ],
      "execution_count": 16,
      "outputs": []
    },
    {
      "cell_type": "code",
      "metadata": {
        "id": "MNI0I2MOrD43"
      },
      "source": [
        "#seperating the data in test and train pair\n",
        "from sklearn.model_selection import train_test_split\n",
        "X_train, X_test, y_train, y_test = train_test_split(X, Y, test_size=0.33)\n"
      ],
      "execution_count": 17,
      "outputs": []
    },
    {
      "cell_type": "code",
      "metadata": {
        "colab": {
          "base_uri": "https://localhost:8080/"
        },
        "id": "wHqBaUpKqbnV",
        "outputId": "3a7e4e64-92b8-4906-cd3f-ee5d5a3e0d2a"
      },
      "source": [
        "#Model\n",
        "EMBEDDING_DIM = 300\n",
        "embedding_layer = Embedding(vocab_size,\n",
        "        EMBEDDING_DIM,\n",
        "        weights=[embedding_matrix],\n",
        "        input_length=10,\n",
        "        trainable=False)\n",
        "\n",
        "lstm_layer_1 = LSTM(20, return_sequences=False, dropout=0.15, recurrent_dropout=0.15)\n",
        "\n",
        "sequence_input = Input(shape=(200,), dtype='int32')\n",
        "x1 = embedding_layer(sequence_input)\n",
        "x1 = lstm_layer_1(x1)\n",
        "x1 = Dropout(0.10)(x1)\n",
        "x1 = BatchNormalization()(x1)\n",
        "x1 = Dense(500, activation='relu')(x1)\n",
        "x1 = Dropout(0.10)(x1)\n",
        "x1 = Dense(50, activation='relu')(x1)\n",
        "x1 = Dropout(0.10)(x1)\n",
        "x1 = BatchNormalization()(x1)\n",
        "preds = Dense(23, activation='softmax')(x1)\n",
        "\n",
        "model = Model(inputs=sequence_input, outputs=preds)\n",
        "print(model.summary())"
      ],
      "execution_count": 19,
      "outputs": [
        {
          "output_type": "stream",
          "name": "stdout",
          "text": [
            "Model: \"model_1\"\n",
            "_________________________________________________________________\n",
            " Layer (type)                Output Shape              Param #   \n",
            "=================================================================\n",
            " input_2 (InputLayer)        [(None, 200)]             0         \n",
            "                                                                 \n",
            " embedding_1 (Embedding)     (None, 200, 300)          20700     \n",
            "                                                                 \n",
            " lstm_1 (LSTM)               (None, 20)                25680     \n",
            "                                                                 \n",
            " dropout_3 (Dropout)         (None, 20)                0         \n",
            "                                                                 \n",
            " batch_normalization_2 (Batc  (None, 20)               80        \n",
            " hNormalization)                                                 \n",
            "                                                                 \n",
            " dense_3 (Dense)             (None, 500)               10500     \n",
            "                                                                 \n",
            " dropout_4 (Dropout)         (None, 500)               0         \n",
            "                                                                 \n",
            " dense_4 (Dense)             (None, 50)                25050     \n",
            "                                                                 \n",
            " dropout_5 (Dropout)         (None, 50)                0         \n",
            "                                                                 \n",
            " batch_normalization_3 (Batc  (None, 50)               200       \n",
            " hNormalization)                                                 \n",
            "                                                                 \n",
            " dense_5 (Dense)             (None, 23)                1173      \n",
            "                                                                 \n",
            "=================================================================\n",
            "Total params: 83,383\n",
            "Trainable params: 62,543\n",
            "Non-trainable params: 20,840\n",
            "_________________________________________________________________\n",
            "None\n"
          ]
        }
      ]
    },
    {
      "cell_type": "code",
      "metadata": {
        "colab": {
          "base_uri": "https://localhost:8080/",
          "height": 1000
        },
        "id": "kGI7A2ZMzPt3",
        "outputId": "2f35f56e-f889-426a-d5d8-55d5f77329af"
      },
      "source": [
        "tf.keras.utils.plot_model(model, to_file='model.png', show_shapes=True, show_layer_names=True)"
      ],
      "execution_count": 20,
      "outputs": [
        {
          "output_type": "execute_result",
          "data": {
            "image/png": "[encoded data removed]",
            "text/plain": [
              "<IPython.core.display.Image object>"
            ]
          },
          "metadata": {},
          "execution_count": 20
        }
      ]
    },
    {
      "cell_type": "code",
      "metadata": {
        "colab": {
          "base_uri": "https://localhost:8080/"
        },
        "id": "N9fijs56qbqs",
        "outputId": "09bf5f08-ae72-4b7d-f27d-6a2cfa8a5ade"
      },
      "source": [
        "\n",
        "loss_fn = tf.keras.losses.MeanAbsoluteError()\n",
        "optimizer = tf.keras.optimizers.Adam(learning_rate=1e-3)\n",
        "train_acc_metric = tf.keras.losses.MeanAbsoluteError()\n",
        "val_acc_metric = tf.keras.losses.MeanAbsoluteError()\n",
        "\n",
        "model.compile(optimizer=optimizer, loss=loss_fn, metrics=train_acc_metric)\n",
        "model.fit(X_train, y_train, batch_size=1024, epochs=100, validation_data=(X_test, y_test), use_multiprocessing=True)"
      ],
      "execution_count": 22,
      "outputs": [
        {
          "output_type": "stream",
          "name": "stdout",
          "text": [
            "Epoch 1/100\n",
            "8/8 [==============================] - 19s 2s/step - loss: 0.1237 - mean_absolute_error: 0.1236 - val_loss: 0.1126 - val_mean_absolute_error: 0.1128\n",
            "Epoch 2/100\n",
            "8/8 [==============================] - 13s 2s/step - loss: 0.1236 - mean_absolute_error: 0.1236 - val_loss: 0.1124 - val_mean_absolute_error: 0.1126\n",
            "Epoch 3/100\n",
            "8/8 [==============================] - 13s 2s/step - loss: 0.1234 - mean_absolute_error: 0.1235 - val_loss: 0.1123 - val_mean_absolute_error: 0.1125\n",
            "Epoch 4/100\n",
            "8/8 [==============================] - 12s 1s/step - loss: 0.1238 - mean_absolute_error: 0.1238 - val_loss: 0.1122 - val_mean_absolute_error: 0.1124\n",
            "Epoch 5/100\n",
            "8/8 [==============================] - 13s 2s/step - loss: 0.1232 - mean_absolute_error: 0.1233 - val_loss: 0.1122 - val_mean_absolute_error: 0.1124\n",
            "Epoch 6/100\n",
            "8/8 [==============================] - 13s 2s/step - loss: 0.1240 - mean_absolute_error: 0.1240 - val_loss: 0.1122 - val_mean_absolute_error: 0.1124\n",
            "Epoch 7/100\n",
            "8/8 [==============================] - 13s 2s/step - loss: 0.1238 - mean_absolute_error: 0.1238 - val_loss: 0.1122 - val_mean_absolute_error: 0.1124\n",
            "Epoch 8/100\n",
            "8/8 [==============================] - 12s 2s/step - loss: 0.1236 - mean_absolute_error: 0.1236 - val_loss: 0.1122 - val_mean_absolute_error: 0.1124\n",
            "Epoch 9/100\n",
            "8/8 [==============================] - 13s 2s/step - loss: 0.1239 - mean_absolute_error: 0.1239 - val_loss: 0.1122 - val_mean_absolute_error: 0.1124\n",
            "Epoch 10/100\n",
            "8/8 [==============================] - 13s 2s/step - loss: 0.1241 - mean_absolute_error: 0.1240 - val_loss: 0.1122 - val_mean_absolute_error: 0.1124\n",
            "Epoch 11/100\n",
            "8/8 [==============================] - 13s 2s/step - loss: 0.1237 - mean_absolute_error: 0.1237 - val_loss: 0.1122 - val_mean_absolute_error: 0.1124\n",
            "Epoch 12/100\n",
            "8/8 [==============================] - 13s 2s/step - loss: 0.1233 - mean_absolute_error: 0.1234 - val_loss: 0.1122 - val_mean_absolute_error: 0.1124\n",
            "Epoch 13/100\n",
            "8/8 [==============================] - 13s 2s/step - loss: 0.1238 - mean_absolute_error: 0.1236 - val_loss: 0.1122 - val_mean_absolute_error: 0.1124\n",
            "Epoch 14/100\n",
            "8/8 [==============================] - 13s 2s/step - loss: 0.1243 - mean_absolute_error: 0.1243 - val_loss: 0.1122 - val_mean_absolute_error: 0.1124\n",
            "Epoch 15/100\n",
            "8/8 [==============================] - 13s 2s/step - loss: 0.1238 - mean_absolute_error: 0.1238 - val_loss: 0.1122 - val_mean_absolute_error: 0.1124\n",
            "Epoch 16/100\n",
            "8/8 [==============================] - 13s 2s/step - loss: 0.1238 - mean_absolute_error: 0.1237 - val_loss: 0.1122 - val_mean_absolute_error: 0.1124\n",
            "Epoch 17/100\n",
            "8/8 [==============================] - 13s 2s/step - loss: 0.1241 - mean_absolute_error: 0.1240 - val_loss: 0.1122 - val_mean_absolute_error: 0.1124\n",
            "Epoch 18/100\n",
            "8/8 [==============================] - 13s 2s/step - loss: 0.1235 - mean_absolute_error: 0.1235 - val_loss: 0.1122 - val_mean_absolute_error: 0.1124\n",
            "Epoch 19/100\n",
            "8/8 [==============================] - 14s 2s/step - loss: 0.1239 - mean_absolute_error: 0.1239 - val_loss: 0.1122 - val_mean_absolute_error: 0.1124\n",
            "Epoch 20/100\n",
            "8/8 [==============================] - 13s 2s/step - loss: 0.1234 - mean_absolute_error: 0.1235 - val_loss: 0.1122 - val_mean_absolute_error: 0.1124\n",
            "Epoch 21/100\n",
            "8/8 [==============================] - 14s 2s/step - loss: 0.1239 - mean_absolute_error: 0.1239 - val_loss: 0.1122 - val_mean_absolute_error: 0.1124\n",
            "Epoch 22/100\n",
            "8/8 [==============================] - 13s 2s/step - loss: 0.1244 - mean_absolute_error: 0.1241 - val_loss: 0.1122 - val_mean_absolute_error: 0.1124\n",
            "Epoch 23/100\n",
            "8/8 [==============================] - 13s 2s/step - loss: 0.1235 - mean_absolute_error: 0.1236 - val_loss: 0.1122 - val_mean_absolute_error: 0.1124\n",
            "Epoch 24/100\n",
            "8/8 [==============================] - 13s 2s/step - loss: 0.1237 - mean_absolute_error: 0.1237 - val_loss: 0.1122 - val_mean_absolute_error: 0.1124\n",
            "Epoch 25/100\n",
            "8/8 [==============================] - 13s 2s/step - loss: 0.1236 - mean_absolute_error: 0.1236 - val_loss: 0.1122 - val_mean_absolute_error: 0.1124\n",
            "Epoch 26/100\n",
            "8/8 [==============================] - 13s 2s/step - loss: 0.1234 - mean_absolute_error: 0.1235 - val_loss: 0.1122 - val_mean_absolute_error: 0.1124\n",
            "Epoch 27/100\n",
            "8/8 [==============================] - 13s 2s/step - loss: 0.1235 - mean_absolute_error: 0.1235 - val_loss: 0.1122 - val_mean_absolute_error: 0.1124\n",
            "Epoch 28/100\n",
            "8/8 [==============================] - 13s 2s/step - loss: 0.1240 - mean_absolute_error: 0.1241 - val_loss: 0.1122 - val_mean_absolute_error: 0.1124\n",
            "Epoch 29/100\n",
            "8/8 [==============================] - 13s 2s/step - loss: 0.1237 - mean_absolute_error: 0.1235 - val_loss: 0.1122 - val_mean_absolute_error: 0.1124\n",
            "Epoch 30/100\n",
            "8/8 [==============================] - 13s 2s/step - loss: 0.1237 - mean_absolute_error: 0.1236 - val_loss: 0.1122 - val_mean_absolute_error: 0.1124\n",
            "Epoch 31/100\n",
            "8/8 [==============================] - 13s 2s/step - loss: 0.1237 - mean_absolute_error: 0.1237 - val_loss: 0.1122 - val_mean_absolute_error: 0.1124\n",
            "Epoch 32/100\n",
            "8/8 [==============================] - 13s 2s/step - loss: 0.1233 - mean_absolute_error: 0.1234 - val_loss: 0.1122 - val_mean_absolute_error: 0.1124\n",
            "Epoch 33/100\n",
            "8/8 [==============================] - 13s 2s/step - loss: 0.1243 - mean_absolute_error: 0.1244 - val_loss: 0.1122 - val_mean_absolute_error: 0.1124\n",
            "Epoch 34/100\n",
            "8/8 [==============================] - 12s 2s/step - loss: 0.1233 - mean_absolute_error: 0.1233 - val_loss: 0.1122 - val_mean_absolute_error: 0.1124\n",
            "Epoch 35/100\n",
            "8/8 [==============================] - 12s 2s/step - loss: 0.1245 - mean_absolute_error: 0.1245 - val_loss: 0.1122 - val_mean_absolute_error: 0.1124\n",
            "Epoch 36/100\n",
            "8/8 [==============================] - 13s 2s/step - loss: 0.1246 - mean_absolute_error: 0.1246 - val_loss: 0.1122 - val_mean_absolute_error: 0.1124\n",
            "Epoch 37/100\n",
            "8/8 [==============================] - 13s 2s/step - loss: 0.1233 - mean_absolute_error: 0.1232 - val_loss: 0.1122 - val_mean_absolute_error: 0.1124\n",
            "Epoch 38/100\n",
            "8/8 [==============================] - 13s 2s/step - loss: 0.1236 - mean_absolute_error: 0.1235 - val_loss: 0.1122 - val_mean_absolute_error: 0.1124\n",
            "Epoch 39/100\n",
            "8/8 [==============================] - 12s 2s/step - loss: 0.1242 - mean_absolute_error: 0.1243 - val_loss: 0.1122 - val_mean_absolute_error: 0.1124\n",
            "Epoch 40/100\n",
            "8/8 [==============================] - 13s 2s/step - loss: 0.1242 - mean_absolute_error: 0.1241 - val_loss: 0.1122 - val_mean_absolute_error: 0.1124\n",
            "Epoch 41/100\n",
            "8/8 [==============================] - 13s 2s/step - loss: 0.1234 - mean_absolute_error: 0.1236 - val_loss: 0.1122 - val_mean_absolute_error: 0.1124\n",
            "Epoch 42/100\n",
            "8/8 [==============================] - 13s 2s/step - loss: 0.1239 - mean_absolute_error: 0.1240 - val_loss: 0.1122 - val_mean_absolute_error: 0.1124\n",
            "Epoch 43/100\n",
            "8/8 [==============================] - 12s 2s/step - loss: 0.1237 - mean_absolute_error: 0.1238 - val_loss: 0.1122 - val_mean_absolute_error: 0.1124\n",
            "Epoch 44/100\n",
            "8/8 [==============================] - 13s 2s/step - loss: 0.1242 - mean_absolute_error: 0.1243 - val_loss: 0.1122 - val_mean_absolute_error: 0.1124\n",
            "Epoch 45/100\n",
            "8/8 [==============================] - 13s 2s/step - loss: 0.1233 - mean_absolute_error: 0.1232 - val_loss: 0.1122 - val_mean_absolute_error: 0.1124\n",
            "Epoch 46/100\n",
            "8/8 [==============================] - 13s 2s/step - loss: 0.1238 - mean_absolute_error: 0.1235 - val_loss: 0.1122 - val_mean_absolute_error: 0.1124\n",
            "Epoch 47/100\n",
            "8/8 [==============================] - 13s 2s/step - loss: 0.1236 - mean_absolute_error: 0.1235 - val_loss: 0.1122 - val_mean_absolute_error: 0.1124\n",
            "Epoch 48/100\n",
            "8/8 [==============================] - 12s 2s/step - loss: 0.1240 - mean_absolute_error: 0.1240 - val_loss: 0.1122 - val_mean_absolute_error: 0.1124\n",
            "Epoch 49/100\n",
            "8/8 [==============================] - 14s 2s/step - loss: 0.1237 - mean_absolute_error: 0.1237 - val_loss: 0.1122 - val_mean_absolute_error: 0.1124\n",
            "Epoch 50/100\n",
            "8/8 [==============================] - 13s 2s/step - loss: 0.1237 - mean_absolute_error: 0.1236 - val_loss: 0.1122 - val_mean_absolute_error: 0.1124\n",
            "Epoch 51/100\n",
            "8/8 [==============================] - 12s 2s/step - loss: 0.1242 - mean_absolute_error: 0.1242 - val_loss: 0.1122 - val_mean_absolute_error: 0.1124\n",
            "Epoch 52/100\n",
            "8/8 [==============================] - 13s 2s/step - loss: 0.1233 - mean_absolute_error: 0.1233 - val_loss: 0.1122 - val_mean_absolute_error: 0.1124\n",
            "Epoch 53/100\n",
            "8/8 [==============================] - 13s 2s/step - loss: 0.1245 - mean_absolute_error: 0.1244 - val_loss: 0.1122 - val_mean_absolute_error: 0.1124\n",
            "Epoch 54/100\n",
            "8/8 [==============================] - 12s 2s/step - loss: 0.1235 - mean_absolute_error: 0.1235 - val_loss: 0.1122 - val_mean_absolute_error: 0.1124\n",
            "Epoch 55/100\n",
            "8/8 [==============================] - 13s 2s/step - loss: 0.1239 - mean_absolute_error: 0.1238 - val_loss: 0.1122 - val_mean_absolute_error: 0.1124\n",
            "Epoch 56/100\n",
            "8/8 [==============================] - 12s 2s/step - loss: 0.1233 - mean_absolute_error: 0.1234 - val_loss: 0.1122 - val_mean_absolute_error: 0.1124\n",
            "Epoch 57/100\n",
            "8/8 [==============================] - 13s 2s/step - loss: 0.1242 - mean_absolute_error: 0.1241 - val_loss: 0.1122 - val_mean_absolute_error: 0.1124\n",
            "Epoch 58/100\n",
            "8/8 [==============================] - 13s 2s/step - loss: 0.1239 - mean_absolute_error: 0.1239 - val_loss: 0.1122 - val_mean_absolute_error: 0.1124\n",
            "Epoch 59/100\n",
            "8/8 [==============================] - 12s 2s/step - loss: 0.1238 - mean_absolute_error: 0.1238 - val_loss: 0.1122 - val_mean_absolute_error: 0.1124\n",
            "Epoch 60/100\n",
            "8/8 [==============================] - 13s 2s/step - loss: 0.1238 - mean_absolute_error: 0.1238 - val_loss: 0.1122 - val_mean_absolute_error: 0.1124\n",
            "Epoch 61/100\n",
            "8/8 [==============================] - 13s 2s/step - loss: 0.1241 - mean_absolute_error: 0.1240 - val_loss: 0.1122 - val_mean_absolute_error: 0.1124\n",
            "Epoch 62/100\n",
            "8/8 [==============================] - 13s 2s/step - loss: 0.1249 - mean_absolute_error: 0.1248 - val_loss: 0.1122 - val_mean_absolute_error: 0.1124\n",
            "Epoch 63/100\n",
            "8/8 [==============================] - 13s 2s/step - loss: 0.1242 - mean_absolute_error: 0.1242 - val_loss: 0.1122 - val_mean_absolute_error: 0.1124\n",
            "Epoch 64/100\n",
            "8/8 [==============================] - 13s 2s/step - loss: 0.1236 - mean_absolute_error: 0.1237 - val_loss: 0.1122 - val_mean_absolute_error: 0.1124\n",
            "Epoch 65/100\n",
            "8/8 [==============================] - 13s 2s/step - loss: 0.1231 - mean_absolute_error: 0.1234 - val_loss: 0.1122 - val_mean_absolute_error: 0.1124\n",
            "Epoch 66/100\n",
            "8/8 [==============================] - 13s 2s/step - loss: 0.1242 - mean_absolute_error: 0.1242 - val_loss: 0.1122 - val_mean_absolute_error: 0.1124\n",
            "Epoch 67/100\n",
            "8/8 [==============================] - 14s 2s/step - loss: 0.1240 - mean_absolute_error: 0.1239 - val_loss: 0.1122 - val_mean_absolute_error: 0.1124\n",
            "Epoch 68/100\n",
            "8/8 [==============================] - 14s 2s/step - loss: 0.1243 - mean_absolute_error: 0.1243 - val_loss: 0.1122 - val_mean_absolute_error: 0.1124\n",
            "Epoch 69/100\n",
            "8/8 [==============================] - 14s 2s/step - loss: 0.1237 - mean_absolute_error: 0.1235 - val_loss: 0.1122 - val_mean_absolute_error: 0.1124\n",
            "Epoch 70/100\n",
            "8/8 [==============================] - 14s 2s/step - loss: 0.1234 - mean_absolute_error: 0.1234 - val_loss: 0.1122 - val_mean_absolute_error: 0.1124\n",
            "Epoch 71/100\n",
            "8/8 [==============================] - 13s 2s/step - loss: 0.1239 - mean_absolute_error: 0.1238 - val_loss: 0.1122 - val_mean_absolute_error: 0.1123\n",
            "Epoch 72/100\n",
            "8/8 [==============================] - 13s 2s/step - loss: 0.1237 - mean_absolute_error: 0.1236 - val_loss: 0.1122 - val_mean_absolute_error: 0.1123\n",
            "Epoch 73/100\n",
            "8/8 [==============================] - 12s 2s/step - loss: 0.1236 - mean_absolute_error: 0.1235 - val_loss: 0.1122 - val_mean_absolute_error: 0.1123\n",
            "Epoch 74/100\n",
            "8/8 [==============================] - 13s 2s/step - loss: 0.1241 - mean_absolute_error: 0.1240 - val_loss: 0.1122 - val_mean_absolute_error: 0.1124\n",
            "Epoch 75/100\n",
            "8/8 [==============================] - 13s 2s/step - loss: 0.1236 - mean_absolute_error: 0.1235 - val_loss: 0.1122 - val_mean_absolute_error: 0.1124\n",
            "Epoch 76/100\n",
            "8/8 [==============================] - 12s 2s/step - loss: 0.1228 - mean_absolute_error: 0.1228 - val_loss: 0.1122 - val_mean_absolute_error: 0.1124\n",
            "Epoch 77/100\n",
            "8/8 [==============================] - 12s 2s/step - loss: 0.1234 - mean_absolute_error: 0.1235 - val_loss: 0.1122 - val_mean_absolute_error: 0.1124\n",
            "Epoch 78/100\n",
            "8/8 [==============================] - 13s 2s/step - loss: 0.1242 - mean_absolute_error: 0.1242 - val_loss: 0.1122 - val_mean_absolute_error: 0.1124\n",
            "Epoch 79/100\n",
            "8/8 [==============================] - 13s 2s/step - loss: 0.1245 - mean_absolute_error: 0.1245 - val_loss: 0.1122 - val_mean_absolute_error: 0.1124\n",
            "Epoch 80/100\n",
            "8/8 [==============================] - 13s 2s/step - loss: 0.1231 - mean_absolute_error: 0.1232 - val_loss: 0.1122 - val_mean_absolute_error: 0.1124\n",
            "Epoch 81/100\n",
            "8/8 [==============================] - 13s 2s/step - loss: 0.1243 - mean_absolute_error: 0.1243 - val_loss: 0.1122 - val_mean_absolute_error: 0.1123\n",
            "Epoch 82/100\n",
            "8/8 [==============================] - 13s 2s/step - loss: 0.1244 - mean_absolute_error: 0.1244 - val_loss: 0.1122 - val_mean_absolute_error: 0.1123\n",
            "Epoch 83/100\n",
            "8/8 [==============================] - 13s 2s/step - loss: 0.1246 - mean_absolute_error: 0.1245 - val_loss: 0.1122 - val_mean_absolute_error: 0.1123\n",
            "Epoch 84/100\n",
            "8/8 [==============================] - 12s 2s/step - loss: 0.1232 - mean_absolute_error: 0.1231 - val_loss: 0.1122 - val_mean_absolute_error: 0.1123\n",
            "Epoch 85/100\n",
            "8/8 [==============================] - 13s 2s/step - loss: 0.1232 - mean_absolute_error: 0.1232 - val_loss: 0.1122 - val_mean_absolute_error: 0.1123\n",
            "Epoch 86/100\n",
            "8/8 [==============================] - 13s 2s/step - loss: 0.1248 - mean_absolute_error: 0.1249 - val_loss: 0.1122 - val_mean_absolute_error: 0.1123\n",
            "Epoch 87/100\n",
            "8/8 [==============================] - 12s 2s/step - loss: 0.1247 - mean_absolute_error: 0.1247 - val_loss: 0.1122 - val_mean_absolute_error: 0.1123\n",
            "Epoch 88/100\n",
            "8/8 [==============================] - 14s 2s/step - loss: 0.1242 - mean_absolute_error: 0.1242 - val_loss: 0.1122 - val_mean_absolute_error: 0.1123\n",
            "Epoch 89/100\n",
            "8/8 [==============================] - 12s 2s/step - loss: 0.1232 - mean_absolute_error: 0.1233 - val_loss: 0.1122 - val_mean_absolute_error: 0.1123\n",
            "Epoch 90/100\n",
            "8/8 [==============================] - 13s 2s/step - loss: 0.1235 - mean_absolute_error: 0.1235 - val_loss: 0.1122 - val_mean_absolute_error: 0.1123\n",
            "Epoch 91/100\n",
            "8/8 [==============================] - 13s 2s/step - loss: 0.1243 - mean_absolute_error: 0.1242 - val_loss: 0.1122 - val_mean_absolute_error: 0.1123\n",
            "Epoch 92/100\n",
            "8/8 [==============================] - 13s 2s/step - loss: 0.1241 - mean_absolute_error: 0.1241 - val_loss: 0.1122 - val_mean_absolute_error: 0.1123\n",
            "Epoch 93/100\n",
            "8/8 [==============================] - 13s 2s/step - loss: 0.1238 - mean_absolute_error: 0.1238 - val_loss: 0.1122 - val_mean_absolute_error: 0.1123\n",
            "Epoch 94/100\n",
            "8/8 [==============================] - 13s 2s/step - loss: 0.1242 - mean_absolute_error: 0.1240 - val_loss: 0.1122 - val_mean_absolute_error: 0.1123\n",
            "Epoch 95/100\n",
            "8/8 [==============================] - 13s 2s/step - loss: 0.1239 - mean_absolute_error: 0.1238 - val_loss: 0.1122 - val_mean_absolute_error: 0.1123\n",
            "Epoch 96/100\n",
            "8/8 [==============================] - 13s 2s/step - loss: 0.1235 - mean_absolute_error: 0.1236 - val_loss: 0.1122 - val_mean_absolute_error: 0.1123\n",
            "Epoch 97/100\n",
            "8/8 [==============================] - 13s 2s/step - loss: 0.1244 - mean_absolute_error: 0.1245 - val_loss: 0.1122 - val_mean_absolute_error: 0.1123\n",
            "Epoch 98/100\n",
            "8/8 [==============================] - 13s 2s/step - loss: 0.1241 - mean_absolute_error: 0.1243 - val_loss: 0.1122 - val_mean_absolute_error: 0.1123\n",
            "Epoch 99/100\n",
            "8/8 [==============================] - 13s 2s/step - loss: 0.1238 - mean_absolute_error: 0.1240 - val_loss: 0.1122 - val_mean_absolute_error: 0.1123\n",
            "Epoch 100/100\n",
            "8/8 [==============================] - 13s 2s/step - loss: 0.1232 - mean_absolute_error: 0.1231 - val_loss: 0.1122 - val_mean_absolute_error: 0.1123\n"
          ]
        },
        {
          "output_type": "execute_result",
          "data": {
            "text/plain": [
              "<keras.callbacks.History at 0x7f2c9ae50fd0>"
            ]
          },
          "metadata": {},
          "execution_count": 22
        }
      ]
    },
    {
      "cell_type": "code",
      "metadata": {
        "id": "QhDVR3Oyhbw_"
      },
      "source": [
        ""
      ],
      "execution_count": null,
      "outputs": []
    },
    {
      "cell_type": "code",
      "metadata": {
        "colab": {
          "base_uri": "https://localhost:8080/"
        },
        "id": "T2LKZ0fWhbzS",
        "outputId": "a30c7198-69b6-43cd-8ad3-ac3b3ed37b08"
      },
      "source": [
        "test_df= valid_data\n",
        "\n",
        "tokenizer = Tokenizer()\n",
        "tokenizer.fit_on_texts(test_df['transcription'])\n",
        "\n",
        "max_len = 200\n",
        "data = tokenizer.texts_to_sequences(test_df['transcription'].values)\n",
        "data = pad_sequences(data, maxlen=max_len)\n",
        "\n",
        "preds = model.predict(data)\n",
        "ans=preds\n",
        "# print(ans)\n",
        "\n",
        "test_df['act']=test_df['transcription']\n",
        "test_df['obj']=test_df['transcription']\n",
        "test_df['loc']=test_df['transcription']\n",
        "\n",
        "for i in range(len(test_df)):\n",
        "  temp=[]\n",
        "  for j in range(6):\n",
        "    temp.append(round(ans[i][j]))\n",
        "  test_df['act'].iloc[i]= np.array(temp)\n",
        "\n",
        "  temp=[]\n",
        "  for j in range(4,18):\n",
        "    temp.append(round(ans[i][j]))\n",
        "  test_df['obj'].iloc[i]= np.array(temp)\n",
        "  \n",
        "  temp=[]\n",
        "  for j in range(19,23):\n",
        "    temp.append(round(ans[i][j]))\n",
        "  test_df['loc'].iloc[i]= np.array(temp)\n",
        "\n",
        "# print(test_df.head())\n",
        "\n",
        "# test_df.head()\n",
        "\n",
        "test_df['act_pred']= test_df['act'].apply(lambda x: act_encoder.inverse_transform(x.reshape(1,-1)))\n",
        "test_df['obj_pred']= test_df['obj'].apply(lambda x: obj_encoder.inverse_transform(x.reshape(1,-1)))\n",
        "test_df['loc_pred']= test_df['loc'].apply(lambda x: loc_encoder.inverse_transform(x.reshape(1,-1)))\n",
        "\n",
        "test_df['act_pred']=test_df['act_pred'].apply(lambda x: x[0][0])\n",
        "test_df['act_pred']=test_df['act_pred'].apply(lambda x: x if x else 'none')\n",
        "\n",
        "test_df['obj_pred']=test_df['obj_pred'].apply(lambda x: x[0][0])\n",
        "test_df['obj_pred']=test_df['obj_pred'].apply(lambda x: x if x else 'none')\n",
        "\n",
        "test_df['loc_pred']=test_df['loc_pred'].apply(lambda x: x[0][0])\n",
        "test_df['loc_pred']=test_df['loc_pred'].apply(lambda x: x if x else 'none')\n",
        "\n",
        "# print(test_df['act_pred'].head())\n",
        "# micro f1 score\n",
        "action_f1 = f1_score(test_df['act_pred'],test_df['action'], average='micro')\n",
        "object_f1 = f1_score(test_df['obj_pred'],test_df['object'], average='micro')\n",
        "location_f1 = f1_score(test_df['loc_pred'],test_df['location'], average='micro')\n",
        "print('F1 score for action-->',action_f1)\n",
        "print('F1 score for object-->',object_f1)\n",
        "print('F1 score for location-->',location_f1)"
      ],
      "execution_count": 24,
      "outputs": [
        {
          "output_type": "stream",
          "name": "stdout",
          "text": [
            "F1 score for action--> 0.0\n",
            "F1 score for object--> 0.03784477228992944\n",
            "F1 score for location--> 0.5978191148171905\n"
          ]
        }
      ]
    },
    {
      "cell_type": "code",
      "metadata": {
        "id": "2aQ91hv_hb26"
      },
      "source": [
        ""
      ],
      "execution_count": null,
      "outputs": []
    },
    {
      "cell_type": "code",
      "metadata": {
        "id": "21-cdC7Fu9yD"
      },
      "source": [
        ""
      ],
      "execution_count": 22,
      "outputs": []
    },
    {
      "cell_type": "code",
      "metadata": {
        "id": "_LO4Nx6hu90w"
      },
      "source": [
        ""
      ],
      "execution_count": null,
      "outputs": []
    },
    {
      "cell_type": "code",
      "metadata": {
        "id": "5Khfwgefu93a"
      },
      "source": [
        ""
      ],
      "execution_count": null,
      "outputs": []
    },
    {
      "cell_type": "code",
      "metadata": {
        "id": "E4RerCPyu96S"
      },
      "source": [
        ""
      ],
      "execution_count": null,
      "outputs": []
    },
    {
      "cell_type": "code",
      "metadata": {
        "id": "86xwkJm6u99w"
      },
      "source": [
        ""
      ],
      "execution_count": null,
      "outputs": []
    }
  ]
}